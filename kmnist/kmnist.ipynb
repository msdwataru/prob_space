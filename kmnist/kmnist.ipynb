{
 "cells": [
  {
   "cell_type": "code",
   "execution_count": 152,
   "metadata": {},
   "outputs": [],
   "source": [
    "import numpy as np\n",
    "import cv2\n",
    "import matplotlib.pyplot as plt\n",
    "from cnn import CNN\n",
    "from sklearn.model_selection import StratifiedKFold"
   ]
  },
  {
   "cell_type": "code",
   "execution_count": 2,
   "metadata": {},
   "outputs": [
    {
     "name": "stdout",
     "output_type": "stream",
     "text": [
      "kmnist-test-imgs.npz   kmnist-train-labels.npz\r\n",
      "kmnist-train-imgs.npz  kmnist.ipynb\r\n"
     ]
    }
   ],
   "source": [
    "!ls"
   ]
  },
  {
   "cell_type": "code",
   "execution_count": 37,
   "metadata": {},
   "outputs": [],
   "source": [
    "imgs=np.load(\"./kmnist-train-imgs.npz\")[\"arr_0\"]\n",
    "labels = np.load(\"./kmnist-train-labels.npz\")[\"arr_0\"]"
   ]
  },
  {
   "cell_type": "code",
   "execution_count": 38,
   "metadata": {},
   "outputs": [
    {
     "data": {
      "text/plain": [
       "(60000, 28, 28)"
      ]
     },
     "execution_count": 38,
     "metadata": {},
     "output_type": "execute_result"
    }
   ],
   "source": [
    "imgs.shape"
   ]
  },
  {
   "cell_type": "code",
   "execution_count": 39,
   "metadata": {},
   "outputs": [
    {
     "data": {
      "text/plain": [
       "(28, 28)"
      ]
     },
     "execution_count": 39,
     "metadata": {},
     "output_type": "execute_result"
    }
   ],
   "source": [
    "img = imgs[0]\n",
    "img.shape"
   ]
  },
  {
   "cell_type": "code",
   "execution_count": 40,
   "metadata": {},
   "outputs": [],
   "source": [
    "%matplotlib inline"
   ]
  },
  {
   "cell_type": "code",
   "execution_count": 41,
   "metadata": {},
   "outputs": [
    {
     "data": {
      "text/plain": [
       "<matplotlib.image.AxesImage at 0x7f0598739e48>"
      ]
     },
     "execution_count": 41,
     "metadata": {},
     "output_type": "execute_result"
    },
    {
     "data": {
      "image/png": "[encoded data removed]",
      "text/plain": [
       "<Figure size 432x288 with 1 Axes>"
      ]
     },
     "metadata": {
      "needs_background": "light"
     },
     "output_type": "display_data"
    }
   ],
   "source": [
    "plt.imshow(img)"
   ]
  },
  {
   "cell_type": "code",
   "execution_count": 15,
   "metadata": {},
   "outputs": [
    {
     "data": {
      "text/plain": [
       "8"
      ]
     },
     "execution_count": 15,
     "metadata": {},
     "output_type": "execute_result"
    }
   ],
   "source": [
    "labels[0]"
   ]
  },
  {
   "cell_type": "code",
   "execution_count": 19,
   "metadata": {},
   "outputs": [
    {
     "data": {
      "text/plain": [
       "<matplotlib.image.AxesImage at 0x7f05cfe96668>"
      ]
     },
     "execution_count": 19,
     "metadata": {},
     "output_type": "execute_result"
    },
    {
     "data": {
      "image/png": "[encoded data removed]",
      "text/plain": [
       "<Figure size 432x288 with 1 Axes>"
      ]
     },
     "metadata": {
      "needs_background": "light"
     },
     "output_type": "display_data"
    }
   ],
   "source": [
    "plt.imshow(imgs[1])"
   ]
  },
  {
   "cell_type": "code",
   "execution_count": 20,
   "metadata": {},
   "outputs": [
    {
     "data": {
      "text/plain": [
       "7"
      ]
     },
     "execution_count": 20,
     "metadata": {},
     "output_type": "execute_result"
    }
   ],
   "source": [
    "labels[1]"
   ]
  },
  {
   "cell_type": "code",
   "execution_count": 22,
   "metadata": {},
   "outputs": [
    {
     "data": {
      "text/plain": [
       "(60000,)"
      ]
     },
     "execution_count": 22,
     "metadata": {},
     "output_type": "execute_result"
    }
   ],
   "source": [
    "labels.shape"
   ]
  },
  {
   "cell_type": "code",
   "execution_count": 42,
   "metadata": {},
   "outputs": [],
   "source": [
    "train_data = imgs[:100]"
   ]
  },
  {
   "cell_type": "code",
   "execution_count": 43,
   "metadata": {},
   "outputs": [],
   "source": [
    "train_label=labels[:100]\n"
   ]
  },
  {
   "cell_type": "code",
   "execution_count": 44,
   "metadata": {},
   "outputs": [
    {
     "data": {
      "text/plain": [
       "(100, 28, 28)"
      ]
     },
     "execution_count": 44,
     "metadata": {},
     "output_type": "execute_result"
    }
   ],
   "source": [
    "train_data.shape"
   ]
  },
  {
   "cell_type": "code",
   "execution_count": 45,
   "metadata": {},
   "outputs": [
    {
     "data": {
      "text/plain": [
       "(100,)"
      ]
     },
     "execution_count": 45,
     "metadata": {},
     "output_type": "execute_result"
    }
   ],
   "source": [
    "train_label.shape"
   ]
  },
  {
   "cell_type": "code",
   "execution_count": 47,
   "metadata": {},
   "outputs": [],
   "source": [
    "import tensorflow as tf\n",
    "in_ph=tf.placeholder(tf.float32,shape=[None,28,28,1])"
   ]
  },
  {
   "cell_type": "code",
   "execution_count": 48,
   "metadata": {},
   "outputs": [],
   "source": [
    "target_ph=tf.placeholder(tf.float32,shape=[None,10])"
   ]
  },
  {
   "cell_type": "code",
   "execution_count": 49,
   "metadata": {},
   "outputs": [],
   "source": [
    "labels_onehot=np.zeros([100,10])"
   ]
  },
  {
   "cell_type": "code",
   "execution_count": 50,
   "metadata": {},
   "outputs": [],
   "source": [
    "for i,l in enumerate(train_label):\n",
    "    labels_onehot[i,l]=1"
   ]
  },
  {
   "cell_type": "code",
   "execution_count": 52,
   "metadata": {},
   "outputs": [
    {
     "data": {
      "text/plain": [
       "array([[0., 0., 0., 0., 0., 0., 0., 0., 1., 0.],\n",
       "       [0., 0., 0., 0., 0., 0., 0., 1., 0., 0.],\n",
       "       [1., 0., 0., 0., 0., 0., 0., 0., 0., 0.],\n",
       "       [0., 1., 0., 0., 0., 0., 0., 0., 0., 0.],\n",
       "       [0., 0., 0., 0., 1., 0., 0., 0., 0., 0.]])"
      ]
     },
     "execution_count": 52,
     "metadata": {},
     "output_type": "execute_result"
    }
   ],
   "source": [
    "labels_onehot[:5]"
   ]
  },
  {
   "cell_type": "code",
   "execution_count": 53,
   "metadata": {},
   "outputs": [],
   "source": [
    "model=CNN(3,3,ch_list=[1,16,16,8])"
   ]
  },
  {
   "cell_type": "code",
   "execution_count": 54,
   "metadata": {},
   "outputs": [],
   "source": [
    "output=model(in_ph)"
   ]
  },
  {
   "cell_type": "code",
   "execution_count": 55,
   "metadata": {},
   "outputs": [
    {
     "data": {
      "text/plain": [
       "<tf.Tensor 'Softmax_1:0' shape=(?, 10) dtype=float32>"
      ]
     },
     "execution_count": 55,
     "metadata": {},
     "output_type": "execute_result"
    }
   ],
   "source": [
    "output"
   ]
  },
  {
   "cell_type": "code",
   "execution_count": 56,
   "metadata": {},
   "outputs": [],
   "source": [
    "loss=tf.reduce_mean(-output*tf.log(target_ph+1e-7))"
   ]
  },
  {
   "cell_type": "code",
   "execution_count": 57,
   "metadata": {},
   "outputs": [],
   "source": [
    "train_op=tf.train.AdamOptimizer().minimize(loss)"
   ]
  },
  {
   "cell_type": "code",
   "execution_count": 59,
   "metadata": {},
   "outputs": [],
   "source": [
    "saver=tf.train.Saver(tf.global_variables())"
   ]
  },
  {
   "cell_type": "code",
   "execution_count": 60,
   "metadata": {},
   "outputs": [
    {
     "name": "stderr",
     "output_type": "stream",
     "text": [
      "/home/wataru/.virtualenvs/python3/lib/python3.5/site-packages/tensorflow/python/client/session.py:1702: UserWarning: An interactive session is already active. This can cause out-of-memory errors in some cases. You must explicitly call `InteractiveSession.close()` to release resources held by the other session(s).\n",
      "  warnings.warn('An interactive session is already active. This can '\n"
     ]
    }
   ],
   "source": [
    "sess=tf.InteractiveSession()"
   ]
  },
  {
   "cell_type": "code",
   "execution_count": 117,
   "metadata": {},
   "outputs": [],
   "source": [
    "sess.run(tf.global_variables_initializer())"
   ]
  },
  {
   "cell_type": "code",
   "execution_count": 118,
   "metadata": {},
   "outputs": [
    {
     "data": {
      "text/plain": [
       "array([8, 7, 0, 1, 4, 2, 4, 8, 1, 1, 5, 1, 0, 5, 7, 6, 1, 7, 9, 5, 7, 3,\n",
       "       7, 5, 6, 6, 2, 7, 6, 0, 9, 6, 1, 5, 9, 5, 8, 0, 0, 8, 8, 6, 7, 7,\n",
       "       7, 8, 1, 9, 6, 0, 5, 1, 1, 1, 3, 2, 2, 6, 4, 3, 5, 5, 4, 6, 6, 1,\n",
       "       7, 8, 8, 3, 1, 9, 9, 3, 2, 1, 0, 4, 8, 2, 3, 6, 9, 9, 6, 5, 6, 1,\n",
       "       0, 7, 2, 2, 8, 0, 1, 8, 6, 6, 3, 5], dtype=uint8)"
      ]
     },
     "execution_count": 118,
     "metadata": {},
     "output_type": "execute_result"
    }
   ],
   "source": [
    "train_label"
   ]
  },
  {
   "cell_type": "code",
   "execution_count": 119,
   "metadata": {},
   "outputs": [
    {
     "data": {
      "text/plain": [
       "array([[0., 0., 0., 0., 0., 0., 0., 0., 1., 0.],\n",
       "       [0., 0., 0., 0., 0., 0., 0., 1., 0., 0.],\n",
       "       [1., 0., 0., 0., 0., 0., 0., 0., 0., 0.],\n",
       "       [0., 1., 0., 0., 0., 0., 0., 0., 0., 0.],\n",
       "       [0., 0., 0., 0., 1., 0., 0., 0., 0., 0.]])"
      ]
     },
     "execution_count": 119,
     "metadata": {},
     "output_type": "execute_result"
    }
   ],
   "source": [
    "labels_onehot[:5]"
   ]
  },
  {
   "cell_type": "code",
   "execution_count": 120,
   "metadata": {},
   "outputs": [
    {
     "data": {
      "text/plain": [
       "array([[[[0.],\n",
       "         [0.],\n",
       "         [0.],\n",
       "         ...,\n",
       "         [0.],\n",
       "         [0.],\n",
       "         [0.]],\n",
       "\n",
       "        [[0.],\n",
       "         [0.],\n",
       "         [0.],\n",
       "         ...,\n",
       "         [0.],\n",
       "         [0.],\n",
       "         [0.]],\n",
       "\n",
       "        [[0.],\n",
       "         [0.],\n",
       "         [0.],\n",
       "         ...,\n",
       "         [0.],\n",
       "         [0.],\n",
       "         [0.]],\n",
       "\n",
       "        ...,\n",
       "\n",
       "        [[0.],\n",
       "         [0.],\n",
       "         [0.],\n",
       "         ...,\n",
       "         [0.],\n",
       "         [0.],\n",
       "         [0.]],\n",
       "\n",
       "        [[0.],\n",
       "         [0.],\n",
       "         [0.],\n",
       "         ...,\n",
       "         [0.],\n",
       "         [0.],\n",
       "         [0.]],\n",
       "\n",
       "        [[0.],\n",
       "         [0.],\n",
       "         [0.],\n",
       "         ...,\n",
       "         [0.],\n",
       "         [0.],\n",
       "         [0.]]],\n",
       "\n",
       "\n",
       "       [[[0.],\n",
       "         [0.],\n",
       "         [0.],\n",
       "         ...,\n",
       "         [0.],\n",
       "         [0.],\n",
       "         [0.]],\n",
       "\n",
       "        [[0.],\n",
       "         [0.],\n",
       "         [0.],\n",
       "         ...,\n",
       "         [0.],\n",
       "         [0.],\n",
       "         [0.]],\n",
       "\n",
       "        [[0.],\n",
       "         [0.],\n",
       "         [0.],\n",
       "         ...,\n",
       "         [0.],\n",
       "         [0.],\n",
       "         [0.]],\n",
       "\n",
       "        ...,\n",
       "\n",
       "        [[0.],\n",
       "         [0.],\n",
       "         [0.],\n",
       "         ...,\n",
       "         [0.],\n",
       "         [0.],\n",
       "         [0.]],\n",
       "\n",
       "        [[0.],\n",
       "         [0.],\n",
       "         [0.],\n",
       "         ...,\n",
       "         [0.],\n",
       "         [0.],\n",
       "         [0.]],\n",
       "\n",
       "        [[0.],\n",
       "         [0.],\n",
       "         [0.],\n",
       "         ...,\n",
       "         [0.],\n",
       "         [0.],\n",
       "         [0.]]],\n",
       "\n",
       "\n",
       "       [[[0.],\n",
       "         [0.],\n",
       "         [0.],\n",
       "         ...,\n",
       "         [0.],\n",
       "         [0.],\n",
       "         [0.]],\n",
       "\n",
       "        [[0.],\n",
       "         [0.],\n",
       "         [0.],\n",
       "         ...,\n",
       "         [0.],\n",
       "         [0.],\n",
       "         [0.]],\n",
       "\n",
       "        [[0.],\n",
       "         [0.],\n",
       "         [0.],\n",
       "         ...,\n",
       "         [0.],\n",
       "         [0.],\n",
       "         [0.]],\n",
       "\n",
       "        ...,\n",
       "\n",
       "        [[0.],\n",
       "         [0.],\n",
       "         [0.],\n",
       "         ...,\n",
       "         [0.],\n",
       "         [0.],\n",
       "         [0.]],\n",
       "\n",
       "        [[0.],\n",
       "         [0.],\n",
       "         [0.],\n",
       "         ...,\n",
       "         [0.],\n",
       "         [0.],\n",
       "         [0.]],\n",
       "\n",
       "        [[0.],\n",
       "         [0.],\n",
       "         [0.],\n",
       "         ...,\n",
       "         [0.],\n",
       "         [0.],\n",
       "         [0.]]],\n",
       "\n",
       "\n",
       "       [[[0.],\n",
       "         [0.],\n",
       "         [0.],\n",
       "         ...,\n",
       "         [0.],\n",
       "         [0.],\n",
       "         [0.]],\n",
       "\n",
       "        [[0.],\n",
       "         [0.],\n",
       "         [0.],\n",
       "         ...,\n",
       "         [0.],\n",
       "         [0.],\n",
       "         [0.]],\n",
       "\n",
       "        [[0.],\n",
       "         [0.],\n",
       "         [0.],\n",
       "         ...,\n",
       "         [0.],\n",
       "         [0.],\n",
       "         [0.]],\n",
       "\n",
       "        ...,\n",
       "\n",
       "        [[0.],\n",
       "         [0.],\n",
       "         [0.],\n",
       "         ...,\n",
       "         [0.],\n",
       "         [0.],\n",
       "         [0.]],\n",
       "\n",
       "        [[0.],\n",
       "         [0.],\n",
       "         [0.],\n",
       "         ...,\n",
       "         [0.],\n",
       "         [0.],\n",
       "         [0.]],\n",
       "\n",
       "        [[0.],\n",
       "         [0.],\n",
       "         [0.],\n",
       "         ...,\n",
       "         [0.],\n",
       "         [0.],\n",
       "         [0.]]],\n",
       "\n",
       "\n",
       "       [[[0.],\n",
       "         [0.],\n",
       "         [0.],\n",
       "         ...,\n",
       "         [0.],\n",
       "         [0.],\n",
       "         [0.]],\n",
       "\n",
       "        [[0.],\n",
       "         [0.],\n",
       "         [0.],\n",
       "         ...,\n",
       "         [0.],\n",
       "         [0.],\n",
       "         [0.]],\n",
       "\n",
       "        [[0.],\n",
       "         [0.],\n",
       "         [0.],\n",
       "         ...,\n",
       "         [0.],\n",
       "         [0.],\n",
       "         [0.]],\n",
       "\n",
       "        ...,\n",
       "\n",
       "        [[0.],\n",
       "         [0.],\n",
       "         [0.],\n",
       "         ...,\n",
       "         [0.],\n",
       "         [0.],\n",
       "         [0.]],\n",
       "\n",
       "        [[0.],\n",
       "         [0.],\n",
       "         [0.],\n",
       "         ...,\n",
       "         [0.],\n",
       "         [0.],\n",
       "         [0.]],\n",
       "\n",
       "        [[0.],\n",
       "         [0.],\n",
       "         [0.],\n",
       "         ...,\n",
       "         [0.],\n",
       "         [0.],\n",
       "         [0.]]]])"
      ]
     },
     "execution_count": 120,
     "metadata": {},
     "output_type": "execute_result"
    }
   ],
   "source": [
    "train_data[:5]"
   ]
  },
  {
   "cell_type": "code",
   "execution_count": 121,
   "metadata": {},
   "outputs": [
    {
     "data": {
      "text/plain": [
       "array([1.])"
      ]
     },
     "execution_count": 121,
     "metadata": {},
     "output_type": "execute_result"
    }
   ],
   "source": [
    "max(train_data[0,10,:])"
   ]
  },
  {
   "cell_type": "code",
   "execution_count": 73,
   "metadata": {},
   "outputs": [],
   "source": [
    "train_data=255*train_data"
   ]
  },
  {
   "cell_type": "code",
   "execution_count": 122,
   "metadata": {},
   "outputs": [
    {
     "data": {
      "text/plain": [
       "(100, 28, 28, 1)"
      ]
     },
     "execution_count": 122,
     "metadata": {},
     "output_type": "execute_result"
    }
   ],
   "source": [
    "train_data.shape"
   ]
  },
  {
   "cell_type": "code",
   "execution_count": 69,
   "metadata": {},
   "outputs": [],
   "source": [
    "train_data = np.expand_dims(train_data,axis=3)"
   ]
  },
  {
   "cell_type": "code",
   "execution_count": 123,
   "metadata": {},
   "outputs": [
    {
     "data": {
      "text/plain": [
       "array([[0., 0., 0., 0., 0., 0., 0., 0., 1., 0.],\n",
       "       [0., 0., 0., 0., 0., 0., 0., 1., 0., 0.],\n",
       "       [1., 0., 0., 0., 0., 0., 0., 0., 0., 0.],\n",
       "       [0., 1., 0., 0., 0., 0., 0., 0., 0., 0.],\n",
       "       [0., 0., 0., 0., 1., 0., 0., 0., 0., 0.]])"
      ]
     },
     "execution_count": 123,
     "metadata": {},
     "output_type": "execute_result"
    }
   ],
   "source": [
    "labels_onehot[:5]"
   ]
  },
  {
   "cell_type": "code",
   "execution_count": 124,
   "metadata": {},
   "outputs": [],
   "source": [
    "feed_dict={in_ph: train_data,\n",
    "          target_ph: labels_onehot}"
   ]
  },
  {
   "cell_type": "code",
   "execution_count": 143,
   "metadata": {},
   "outputs": [],
   "source": [
    "for e in range(1,50):\n",
    "    \n",
    "    result=sess.run([loss,train_op],feed_dict=feed_dict)\n",
    "    #print(result[0])"
   ]
  },
  {
   "cell_type": "code",
   "execution_count": 144,
   "metadata": {},
   "outputs": [
    {
     "data": {
      "text/plain": [
       "array([[ 0.05156864, -0.02418926,  0.03305778, ...,  0.00191432,\n",
       "        -0.05768918,  0.03514126],\n",
       "       [ 0.04311907, -0.03477947, -0.03611483, ..., -0.00650151,\n",
       "        -0.03871722,  0.03338973],\n",
       "       [ 0.02613699, -0.02968901, -0.02579619, ...,  0.02215345,\n",
       "        -0.00786019,  0.05652944],\n",
       "       ...,\n",
       "       [-0.04203099, -0.04362027, -0.04710925, ..., -0.05813958,\n",
       "         0.0406571 ,  0.04550347],\n",
       "       [-0.05332243, -0.03865099, -0.04224664, ..., -0.06053649,\n",
       "         0.07202509,  0.06324984],\n",
       "       [-0.05906552, -0.03518696, -0.03417537, ..., -0.0629941 ,\n",
       "         0.06655134,  0.06246831]], dtype=float32)"
      ]
     },
     "execution_count": 144,
     "metadata": {},
     "output_type": "execute_result"
    }
   ],
   "source": [
    "model.w_fc1.eval()"
   ]
  },
  {
   "cell_type": "code",
   "execution_count": 145,
   "metadata": {},
   "outputs": [],
   "source": [
    "pred=sess.run(output,feed_dict=feed_dict)"
   ]
  },
  {
   "cell_type": "code",
   "execution_count": 146,
   "metadata": {},
   "outputs": [
    {
     "data": {
      "text/plain": [
       "array([[1.26467916e-04, 5.61295450e-01, 1.87239984e-08, 1.50999867e-07,\n",
       "        1.59351341e-08, 1.74373235e-05, 4.25199658e-01, 7.30114337e-03,\n",
       "        6.05939841e-03, 2.28714484e-07],\n",
       "       [7.88832549e-03, 1.83204096e-03, 8.41096127e-14, 3.82869647e-09,\n",
       "        1.17976402e-13, 1.30696902e-02, 9.69455577e-04, 9.75557387e-01,\n",
       "        6.83126098e-04, 9.21905607e-12],\n",
       "       [8.08590472e-01, 1.25505947e-04, 2.51768417e-17, 8.43443371e-12,\n",
       "        8.93373193e-17, 7.08503351e-02, 2.13358561e-07, 1.36189818e-04,\n",
       "        1.20297246e-01, 2.22203830e-14],\n",
       "       [3.11926298e-04, 5.85980415e-01, 1.80521145e-08, 5.28758619e-08,\n",
       "        1.76238828e-08, 7.37827941e-06, 3.97635102e-01, 4.23382502e-03,\n",
       "        1.18309185e-02, 3.28302917e-07],\n",
       "       [4.99947695e-04, 4.42510962e-01, 9.63883061e-17, 4.65271441e-12,\n",
       "        1.12890712e-16, 6.34397948e-05, 5.14593124e-01, 3.39545459e-02,\n",
       "        8.37798044e-03, 8.78559031e-12]], dtype=float32)"
      ]
     },
     "execution_count": 146,
     "metadata": {},
     "output_type": "execute_result"
    }
   ],
   "source": [
    "pred[:5]"
   ]
  },
  {
   "cell_type": "code",
   "execution_count": 147,
   "metadata": {},
   "outputs": [
    {
     "data": {
      "text/plain": [
       "array([[1.26467916e-04, 5.61295450e-01, 1.87239984e-08, 1.50999867e-07,\n",
       "        1.59351341e-08, 1.74373235e-05, 4.25199658e-01, 7.30114337e-03,\n",
       "        6.05939841e-03, 2.28714484e-07],\n",
       "       [7.88832549e-03, 1.83204096e-03, 8.41096127e-14, 3.82869647e-09,\n",
       "        1.17976402e-13, 1.30696902e-02, 9.69455577e-04, 9.75557387e-01,\n",
       "        6.83126098e-04, 9.21905607e-12],\n",
       "       [8.08590472e-01, 1.25505947e-04, 2.51768417e-17, 8.43443371e-12,\n",
       "        8.93373193e-17, 7.08503351e-02, 2.13358561e-07, 1.36189818e-04,\n",
       "        1.20297246e-01, 2.22203830e-14],\n",
       "       [3.11926298e-04, 5.85980415e-01, 1.80521145e-08, 5.28758619e-08,\n",
       "        1.76238828e-08, 7.37827941e-06, 3.97635102e-01, 4.23382502e-03,\n",
       "        1.18309185e-02, 3.28302917e-07],\n",
       "       [4.99947695e-04, 4.42510962e-01, 9.63883061e-17, 4.65271441e-12,\n",
       "        1.12890712e-16, 6.34397948e-05, 5.14593124e-01, 3.39545459e-02,\n",
       "        8.37798044e-03, 8.78559031e-12],\n",
       "       [9.95376467e-06, 1.71101898e-01, 4.51982306e-11, 2.80643704e-08,\n",
       "        2.65910523e-11, 1.88634367e-05, 7.87652194e-01, 4.10557613e-02,\n",
       "        1.61292977e-04, 1.08241958e-08],\n",
       "       [5.03522577e-03, 6.53962374e-01, 1.06410138e-10, 6.24758245e-09,\n",
       "        1.69932998e-10, 1.75903595e-04, 4.50918674e-02, 1.69166038e-03,\n",
       "        2.94042915e-01, 1.10830163e-08],\n",
       "       [3.84755549e-04, 6.60885751e-01, 9.50108170e-09, 3.57918637e-08,\n",
       "        1.01002966e-08, 8.76324430e-06, 3.17746401e-01, 2.56279111e-03,\n",
       "        1.84114594e-02, 1.75417952e-07],\n",
       "       [3.79319274e-04, 7.40450859e-01, 1.58243481e-07, 6.13680186e-07,\n",
       "        1.43942245e-07, 3.28812202e-05, 2.36274526e-01, 1.55455200e-03,\n",
       "        2.13048477e-02, 1.97489112e-06],\n",
       "       [9.76239389e-04, 5.61464608e-01, 1.21666960e-06, 4.38539200e-06,\n",
       "        1.09396251e-06, 1.76584814e-04, 3.94051790e-01, 2.80679613e-02,\n",
       "        1.52500411e-02, 6.09390418e-06],\n",
       "       [4.64009643e-02, 1.90471735e-06, 8.66910294e-11, 1.00664317e-06,\n",
       "        1.22121813e-10, 9.41919506e-01, 2.46359832e-07, 1.10405190e-02,\n",
       "        6.35923876e-04, 1.30620903e-09],\n",
       "       [7.99099435e-05, 8.80796015e-01, 2.65097926e-11, 9.14102571e-09,\n",
       "        2.28347428e-11, 7.14357666e-05, 1.02516808e-01, 8.50554183e-03,\n",
       "        8.03028140e-03, 8.24402935e-10],\n",
       "       [6.09304488e-01, 2.82278545e-02, 6.37248088e-10, 4.64009759e-07,\n",
       "        1.50187052e-09, 4.09428477e-02, 2.15030275e-03, 2.11140275e-01,\n",
       "        1.08233765e-01, 1.20653185e-08],\n",
       "       [2.81634647e-02, 2.00230425e-05, 6.87479584e-09, 1.04439867e-04,\n",
       "        8.00170419e-09, 9.43446577e-01, 9.41509916e-06, 2.77665481e-02,\n",
       "        4.89352562e-04, 7.56396759e-08],\n",
       "       [1.67352773e-04, 8.61662090e-01, 6.27163946e-19, 3.61401887e-14,\n",
       "        5.61774543e-19, 6.23843061e-06, 2.52877530e-02, 5.97259821e-03,\n",
       "        1.06903873e-01, 1.00451526e-14],\n",
       "       [1.87490423e-06, 1.76431820e-01, 1.83198353e-14, 3.13865730e-12,\n",
       "        1.57478062e-14, 1.67825476e-07, 7.75917351e-01, 4.75641154e-02,\n",
       "        8.46686089e-05, 3.32137421e-12],\n",
       "       [3.30321580e-01, 3.03194791e-01, 1.14524460e-06, 8.56019051e-06,\n",
       "        2.65040740e-06, 1.62616409e-02, 9.95585881e-03, 1.54113397e-02,\n",
       "        3.24835211e-01, 7.23636776e-06],\n",
       "       [1.33286864e-01, 1.80397388e-02, 6.27418988e-15, 2.20432367e-10,\n",
       "        1.15472673e-14, 1.96416900e-02, 9.33718984e-04, 5.61130822e-01,\n",
       "        2.66967177e-01, 8.05515160e-13],\n",
       "       [8.68853629e-02, 1.82843134e-01, 1.04217511e-11, 1.30393767e-08,\n",
       "        2.72891224e-11, 2.06102920e-03, 6.14977658e-01, 6.90825135e-02,\n",
       "        4.41502482e-02, 1.14048468e-07],\n",
       "       [2.34496728e-01, 1.00512407e-04, 4.62116680e-14, 6.67122135e-09,\n",
       "        1.51522797e-13, 4.32809234e-01, 1.13167407e-05, 1.47654931e-03,\n",
       "        3.31105679e-01, 4.32255967e-11],\n",
       "       [7.15042597e-06, 8.73400390e-01, 2.62176672e-21, 3.77093483e-16,\n",
       "        3.60816587e-21, 1.22283467e-07, 1.06204562e-01, 1.28332191e-04,\n",
       "        2.02594455e-02, 1.48739886e-16],\n",
       "       [5.26825944e-03, 6.11736032e-04, 2.83911848e-12, 6.82867249e-05,\n",
       "        1.51219347e-12, 1.89771056e-01, 1.31761259e-03, 8.02904248e-01,\n",
       "        5.88934527e-05, 9.41052658e-09],\n",
       "       [1.39612760e-02, 5.07688057e-03, 1.15543781e-11, 1.11496334e-07,\n",
       "        1.76206411e-11, 7.01972190e-03, 1.49224224e-02, 9.58556712e-01,\n",
       "        4.62758500e-04, 3.65062203e-09],\n",
       "       [2.48459250e-01, 5.84562821e-03, 2.99186009e-04, 8.69532861e-03,\n",
       "        3.46325192e-04, 5.92712998e-01, 3.65646672e-03, 9.85763296e-02,\n",
       "        4.04796340e-02, 9.28813533e-04],\n",
       "       [4.83510121e-05, 8.49250674e-01, 3.64149899e-13, 2.32394781e-11,\n",
       "        4.51595575e-13, 7.19537411e-07, 1.45664260e-01, 8.09355755e-04,\n",
       "        4.22657141e-03, 5.48113915e-11],\n",
       "       [5.22856950e-04, 4.87246871e-01, 3.90814705e-07, 1.11801330e-06,\n",
       "        3.91379388e-07, 5.06444412e-05, 4.87690836e-01, 1.23905316e-02,\n",
       "        1.20924553e-02, 3.91698495e-06],\n",
       "       [4.80747037e-03, 8.12345743e-01, 5.97896788e-10, 1.32728735e-08,\n",
       "        7.40714545e-10, 1.77178459e-04, 8.50081220e-02, 8.08741152e-03,\n",
       "        8.95739794e-02, 2.50230539e-08],\n",
       "       [6.99857855e-03, 1.25087972e-04, 4.70754078e-13, 1.17837452e-07,\n",
       "        3.58227825e-13, 4.21991423e-02, 5.34090505e-05, 9.50414777e-01,\n",
       "        2.08761368e-04, 2.17275642e-10],\n",
       "       [5.49010793e-03, 5.43977879e-02, 1.15891628e-12, 3.26580653e-06,\n",
       "        8.72524655e-13, 2.00824812e-01, 1.35960236e-01, 5.92429519e-01,\n",
       "        1.08943209e-02, 1.09665210e-08],\n",
       "       [6.98371112e-01, 4.81557625e-04, 7.30932248e-09, 1.61264222e-06,\n",
       "        1.58352584e-08, 2.19425842e-01, 1.50032438e-05, 4.04225662e-03,\n",
       "        7.76626393e-02, 6.98957621e-08],\n",
       "       [2.80203708e-02, 3.45022142e-01, 1.33251120e-16, 2.07436715e-12,\n",
       "        3.49905419e-16, 9.39145859e-04, 4.32698391e-02, 2.48582307e-02,\n",
       "        5.57890236e-01, 2.71572174e-12],\n",
       "       [1.42085198e-02, 2.99264461e-01, 1.50687161e-08, 2.37589629e-05,\n",
       "        1.71230674e-08, 1.57742407e-02, 4.80186969e-01, 1.26352534e-01,\n",
       "        6.41880110e-02, 1.53260987e-06],\n",
       "       [4.57197457e-05, 8.61896694e-01, 2.71857092e-10, 8.67611583e-09,\n",
       "        2.56823202e-10, 8.74626221e-06, 1.30688325e-01, 4.15534806e-03,\n",
       "        3.20518040e-03, 2.87924884e-09],\n",
       "       [3.69608810e-04, 4.94796038e-01, 5.82254920e-14, 2.24515684e-10,\n",
       "        5.21834366e-14, 2.12975690e-04, 5.75013012e-02, 7.37163718e-05,\n",
       "        4.47046340e-01, 7.71575914e-10],\n",
       "       [1.54447323e-02, 1.47825003e-01, 1.12030829e-09, 1.49983543e-06,\n",
       "        2.06409467e-09, 4.03956603e-03, 6.31021261e-01, 1.81525081e-01,\n",
       "        2.01384984e-02, 4.32615707e-06],\n",
       "       [7.42680728e-02, 1.58769172e-03, 1.64915648e-09, 2.10894541e-05,\n",
       "        1.59969227e-09, 8.83121252e-01, 1.04458195e-04, 3.27016525e-02,\n",
       "        8.19583982e-03, 3.93888087e-08],\n",
       "       [2.00552255e-01, 2.78638098e-02, 3.37380442e-07, 2.42884398e-05,\n",
       "        4.17106179e-07, 3.74859542e-01, 2.39787484e-03, 6.62704930e-02,\n",
       "        3.28027695e-01, 3.34228776e-06],\n",
       "       [2.04368040e-01, 2.85843771e-06, 7.11702087e-14, 6.86718193e-09,\n",
       "        1.81321931e-13, 7.83135891e-01, 1.29737927e-07, 1.11432597e-02,\n",
       "        1.34972588e-03, 4.61708840e-12],\n",
       "       [8.19579840e-01, 4.30256128e-04, 1.30019523e-10, 2.71930332e-07,\n",
       "        3.34371725e-10, 1.07252024e-01, 1.08182881e-04, 4.75650728e-02,\n",
       "        2.50643454e-02, 7.47563433e-09],\n",
       "       [3.70896960e-05, 7.61393487e-01, 1.11866134e-10, 1.56577296e-09,\n",
       "        1.05604490e-10, 1.45209106e-06, 2.29747102e-01, 6.62917458e-03,\n",
       "        2.19164230e-03, 1.18206533e-09],\n",
       "       [1.18838854e-01, 2.60517728e-02, 4.72370190e-12, 1.54717039e-08,\n",
       "        9.24748299e-12, 3.43676396e-02, 8.04030569e-05, 9.09362920e-04,\n",
       "        8.19751978e-01, 3.98452549e-10],\n",
       "       [1.14661088e-06, 2.93032438e-01, 1.42281694e-13, 1.04327979e-11,\n",
       "        1.29725508e-13, 4.06519263e-08, 7.05902159e-01, 9.16162622e-04,\n",
       "        1.48000196e-04, 7.04072564e-11],\n",
       "       [2.01404300e-02, 2.26022955e-03, 7.03634286e-12, 7.39997859e-08,\n",
       "        9.89731734e-12, 2.06853542e-02, 1.82923104e-03, 9.53178108e-01,\n",
       "        1.90644513e-03, 5.67616787e-10],\n",
       "       [1.10223785e-03, 2.84583354e-03, 2.03212352e-15, 1.94919386e-10,\n",
       "        1.45468295e-15, 3.68187233e-04, 2.51600007e-03, 9.92859364e-01,\n",
       "        3.08467774e-04, 4.35006675e-12],\n",
       "       [5.73064573e-03, 2.71031052e-01, 6.51845582e-08, 2.33547894e-06,\n",
       "        6.79663401e-08, 2.94406014e-03, 2.11027831e-01, 4.77690011e-01,\n",
       "        3.15733068e-02, 6.95963308e-07],\n",
       "       [1.35262062e-05, 8.61879349e-01, 1.85908428e-12, 2.27340646e-11,\n",
       "        1.80846950e-12, 1.05646834e-07, 1.28134787e-01, 9.92152200e-05,\n",
       "        9.87302698e-03, 1.95467059e-10],\n",
       "       [1.52765559e-02, 2.56417304e-01, 1.48498956e-11, 6.78464573e-08,\n",
       "        1.29364583e-11, 2.38553472e-02, 2.56525818e-02, 1.56862028e-02,\n",
       "        6.63111925e-01, 8.32268032e-09],\n",
       "       [4.50706705e-02, 1.17111422e-01, 1.07561249e-09, 5.36566517e-07,\n",
       "        2.07859530e-09, 3.81008117e-03, 5.26392281e-01, 2.88349152e-01,\n",
       "        1.92616265e-02, 4.17638421e-06],\n",
       "       [5.32076192e-05, 4.83908683e-01, 1.31098465e-09, 1.67839804e-08,\n",
       "        1.16007759e-09, 5.41055169e-06, 5.01070261e-01, 1.26393344e-02,\n",
       "        2.32310826e-03, 2.46736995e-08],\n",
       "       [8.51448178e-01, 2.13768308e-05, 2.66803191e-24, 2.98700917e-14,\n",
       "        9.40233452e-24, 1.19903214e-01, 2.28238264e-07, 2.19889246e-02,\n",
       "        6.63812691e-03, 1.52179902e-18],\n",
       "       [1.72033397e-04, 4.74981844e-01, 3.38810013e-12, 1.85158375e-10,\n",
       "        2.58658741e-12, 5.77973924e-06, 4.46797103e-01, 1.35700707e-03,\n",
       "        7.66862184e-02, 2.98756953e-09],\n",
       "       [2.88823849e-05, 8.52035403e-01, 2.38280340e-10, 4.82546669e-09,\n",
       "        2.34300829e-10, 2.69374823e-06, 1.43096253e-01, 7.98066263e-04,\n",
       "        4.03867755e-03, 5.34046984e-09],\n",
       "       [1.68286697e-05, 2.14136153e-01, 4.14956923e-11, 5.47969989e-07,\n",
       "        1.88599050e-11, 2.07478311e-04, 7.77499318e-01, 3.61309969e-03,\n",
       "        4.52651037e-03, 6.16433908e-08],\n",
       "       [2.43110140e-03, 5.67721248e-01, 1.05253832e-06, 2.89937475e-06,\n",
       "        1.21235405e-06, 1.99082395e-04, 3.65286887e-01, 4.09879312e-02,\n",
       "        2.33618990e-02, 6.62425236e-06],\n",
       "       [2.10635215e-02, 1.58664167e-01, 2.87500926e-13, 5.01559960e-10,\n",
       "        3.88777308e-13, 1.11808907e-02, 1.36913685e-03, 1.21937236e-02,\n",
       "        7.95528531e-01, 3.23216072e-11],\n",
       "       [2.34611816e-05, 2.00567588e-01, 1.18260816e-13, 2.74870023e-11,\n",
       "        1.30205308e-13, 1.00511079e-06, 7.64288664e-01, 3.49496119e-02,\n",
       "        1.69538631e-04, 7.34454719e-11],\n",
       "       [2.55560689e-03, 5.02319574e-01, 3.67739517e-06, 8.65303355e-06,\n",
       "        3.71599481e-06, 3.00870772e-04, 4.23961520e-01, 4.56402376e-02,\n",
       "        2.51908693e-02, 1.52932826e-05],\n",
       "       [6.87237980e-06, 2.87623256e-01, 5.21397980e-10, 9.67858949e-09,\n",
       "        3.08855636e-10, 1.56050794e-06, 6.99349582e-01, 1.24146761e-02,\n",
       "        6.04045810e-04, 1.11368230e-08],\n",
       "       [2.94039235e-03, 7.98158765e-01, 3.18117555e-14, 1.01116936e-11,\n",
       "        6.69455268e-14, 3.61343737e-05, 9.57880449e-03, 8.06879252e-04,\n",
       "        1.88479036e-01, 7.96502708e-12],\n",
       "       [2.75373459e-02, 1.59308966e-02, 1.87569889e-08, 5.14978485e-04,\n",
       "        1.55853055e-08, 6.89023852e-01, 7.12215947e-03, 1.73691571e-01,\n",
       "        8.61786902e-02, 3.44238458e-07],\n",
       "       [4.35827151e-02, 3.98829470e-05, 7.35786854e-09, 6.12362855e-05,\n",
       "        1.03888720e-08, 9.37511802e-01, 9.60347916e-06, 1.55831203e-02,\n",
       "        3.21149058e-03, 8.67692194e-08],\n",
       "       [9.99267286e-06, 8.09180915e-01, 1.59475447e-13, 8.20305889e-12,\n",
       "        1.26815049e-13, 1.28240430e-07, 1.77560478e-01, 1.99133763e-04,\n",
       "        1.30493576e-02, 3.19818234e-11],\n",
       "       [8.16655695e-01, 5.86969592e-03, 4.86996977e-15, 8.62530880e-12,\n",
       "        2.46770428e-14, 3.98116652e-03, 3.03055916e-04, 4.31786757e-03,\n",
       "        1.68872491e-01, 1.28939758e-11],\n",
       "       [1.06131303e-07, 8.92438233e-01, 7.38649178e-19, 7.62309853e-16,\n",
       "        7.81369334e-19, 1.53172841e-09, 1.07365265e-01, 7.68690952e-05,\n",
       "        1.19439756e-04, 7.12510616e-16],\n",
       "       [2.64955361e-07, 1.36524782e-01, 4.14629442e-12, 4.14584006e-10,\n",
       "        1.99896848e-12, 1.43052702e-07, 8.62451017e-01, 7.52333086e-04,\n",
       "        2.71426339e-04, 1.50507995e-09],\n",
       "       [1.34324271e-03, 7.10621178e-01, 1.69810198e-06, 5.11843837e-06,\n",
       "        1.68155475e-06, 1.64287747e-04, 2.56319493e-01, 6.20934181e-03,\n",
       "        2.53239349e-02, 1.00417747e-05],\n",
       "       [2.23635230e-02, 1.72702864e-01, 1.23800135e-08, 1.45383217e-06,\n",
       "        1.44854946e-08, 9.27494932e-03, 1.13760747e-01, 5.91176271e-01,\n",
       "        9.07198787e-02, 1.81604705e-07],\n",
       "       [9.25927772e-04, 8.55600893e-01, 8.26218380e-13, 1.85464061e-10,\n",
       "        1.01129261e-12, 7.13547561e-05, 4.32987921e-02, 6.58749091e-03,\n",
       "        9.35155377e-02, 7.31559743e-11],\n",
       "       [5.91671057e-02, 1.56009407e-03, 6.07565647e-12, 7.94805658e-07,\n",
       "        6.94537093e-12, 6.92807734e-01, 3.48051748e-04, 4.68862765e-02,\n",
       "        1.99230000e-01, 2.18101381e-09],\n",
       "       [2.30495166e-02, 8.39254761e-04, 2.45082710e-09, 3.85862309e-04,\n",
       "        2.00444683e-09, 9.07911837e-01, 4.61355376e-04, 4.12613563e-02,\n",
       "        2.60902140e-02, 5.44618899e-07],\n",
       "       [3.88083532e-02, 5.03594518e-01, 2.71349138e-10, 2.64656080e-07,\n",
       "        2.29372646e-10, 3.81716602e-02, 3.38072665e-02, 1.64258122e-01,\n",
       "        2.21359760e-01, 1.50687729e-08],\n",
       "       [2.14743102e-03, 5.62523961e-01, 3.94244099e-13, 3.96092315e-09,\n",
       "        3.18572751e-13, 2.56488356e-03, 2.22943321e-01, 8.94306526e-02,\n",
       "        1.20389745e-01, 6.87569057e-10],\n",
       "       [3.21699791e-02, 2.14344978e-01, 6.75967149e-13, 2.13223785e-08,\n",
       "        5.83612152e-13, 4.46886793e-02, 6.39812136e-03, 6.11405186e-02,\n",
       "        6.41257763e-01, 1.52190927e-09],\n",
       "       [1.44002857e-02, 9.33819538e-05, 1.22500377e-09, 1.06070322e-04,\n",
       "        1.03711606e-09, 8.15654039e-01, 8.84332476e-05, 1.68928817e-01,\n",
       "        7.28913350e-04, 4.06699030e-08],\n",
       "       [4.50556399e-03, 1.69354454e-01, 7.62328625e-07, 1.09170323e-04,\n",
       "        6.19312118e-07, 8.77320394e-03, 6.10998213e-01, 2.00454548e-01,\n",
       "        5.67356171e-03, 1.29890104e-04],\n",
       "       [1.14946329e-06, 8.84901822e-01, 2.77393194e-14, 8.50256768e-13,\n",
       "        2.85587289e-14, 1.46134562e-08, 1.14368834e-01, 1.21131801e-04,\n",
       "        6.07083028e-04, 3.33757718e-12],\n",
       "       [9.07424629e-01, 2.42000748e-03, 4.54997741e-14, 2.48111043e-09,\n",
       "        1.98063164e-13, 3.29649374e-02, 1.40522679e-04, 1.99492592e-02,\n",
       "        3.71006466e-02, 2.37526492e-11],\n",
       "       [4.13723144e-04, 6.94815218e-01, 3.97142771e-18, 4.75454637e-14,\n",
       "        1.16212705e-17, 9.47709168e-07, 3.00063163e-01, 1.38452684e-03,\n",
       "        3.32245254e-03, 9.04456360e-14],\n",
       "       [1.09246066e-02, 1.20735914e-02, 4.98853563e-12, 5.84904214e-09,\n",
       "        7.34187364e-12, 1.54714854e-02, 2.09722522e-04, 5.56417624e-04,\n",
       "        9.60764170e-01, 1.54757029e-09],\n",
       "       [3.86948232e-05, 6.10523105e-01, 3.22459420e-10, 2.33486142e-09,\n",
       "        2.66321076e-10, 1.35141033e-06, 3.83062154e-01, 3.06170434e-03,\n",
       "        3.31283058e-03, 7.79043940e-09],\n",
       "       [1.59128997e-02, 2.22988591e-01, 7.50536788e-09, 9.83280734e-06,\n",
       "        5.59114977e-09, 1.31066039e-01, 9.17036086e-02, 3.42799991e-01,\n",
       "        1.95518121e-01, 8.34952800e-07],\n",
       "       [1.46733585e-08, 2.40987599e-01, 1.06684731e-15, 7.07416656e-13,\n",
       "        6.22495471e-16, 1.84110716e-09, 7.58791268e-01, 2.11596853e-04,\n",
       "        9.55134783e-06, 1.27838137e-12],\n",
       "       [5.87188872e-03, 6.66366994e-01, 9.64620883e-11, 2.28213342e-08,\n",
       "        1.33584283e-10, 3.83137201e-04, 1.81331500e-01, 1.32013569e-02,\n",
       "        1.32845059e-01, 2.45013290e-08],\n",
       "       [9.15276632e-02, 6.78027868e-02, 1.58178942e-10, 9.54162260e-08,\n",
       "        3.60165897e-10, 3.92377377e-03, 8.96133482e-02, 7.23575592e-01,\n",
       "        2.35567205e-02, 7.28903160e-08],\n",
       "       [2.17340232e-04, 3.59291643e-01, 8.07742921e-08, 6.17399337e-07,\n",
       "        6.30497254e-08, 5.62821770e-05, 6.08028173e-01, 2.53433399e-02,\n",
       "        7.06144748e-03, 1.11351278e-06],\n",
       "       [4.35355604e-02, 2.48637079e-05, 4.74511772e-08, 3.17404629e-04,\n",
       "        6.33016484e-08, 9.44653392e-01, 8.61816625e-06, 1.03044640e-02,\n",
       "        1.15534617e-03, 3.17476207e-07],\n",
       "       [1.21554535e-07, 3.31057310e-01, 2.36208673e-14, 1.15032766e-12,\n",
       "        1.70363652e-14, 5.49416734e-09, 6.68372214e-01, 4.74340690e-04,\n",
       "        9.59983518e-05, 7.66984219e-12],\n",
       "       [1.73743319e-05, 9.53215599e-01, 2.21788377e-14, 3.47978720e-12,\n",
       "        2.97068820e-14, 4.49051782e-07, 4.28852923e-02, 3.26640729e-04,\n",
       "        3.55464593e-03, 3.84993686e-12],\n",
       "       [6.87400460e-01, 1.54150592e-04, 2.59167162e-14, 5.05110354e-09,\n",
       "        8.13621495e-14, 1.42248541e-01, 9.36060314e-06, 1.66170567e-01,\n",
       "        4.01693489e-03, 5.15905808e-12],\n",
       "       [5.11466479e-03, 2.61616311e-03, 1.19983288e-12, 6.27570174e-08,\n",
       "        1.55591273e-12, 8.74820724e-03, 1.66108401e-03, 9.79927540e-01,\n",
       "        1.93223788e-03, 1.07528236e-10],\n",
       "       [7.85753422e-04, 5.42250276e-01, 1.36647600e-08, 7.45691793e-08,\n",
       "        1.33598306e-08, 3.10959294e-05, 4.17836785e-01, 1.96927767e-02,\n",
       "        1.94029789e-02, 2.57622730e-07],\n",
       "       [1.37942797e-02, 6.61067307e-01, 1.76623798e-12, 3.73460054e-08,\n",
       "        2.03031168e-12, 2.44720802e-02, 2.18444709e-02, 1.26538668e-02,\n",
       "        2.66167969e-01, 1.08332210e-09],\n",
       "       [2.93504354e-03, 4.96159457e-02, 6.89908674e-14, 1.17759025e-09,\n",
       "        9.24429736e-14, 6.56937854e-03, 1.03366992e-03, 1.07082259e-03,\n",
       "        9.38775122e-01, 3.43977728e-11],\n",
       "       [8.93050671e-01, 4.55355243e-04, 5.42072457e-14, 1.24149102e-09,\n",
       "        1.84544600e-13, 4.78872880e-02, 4.96513803e-06, 4.38508904e-03,\n",
       "        5.42166755e-02, 7.65081401e-12],\n",
       "       [1.61350326e-04, 7.63555408e-01, 1.01715889e-08, 5.11326270e-08,\n",
       "        1.03686260e-08, 1.01638279e-05, 2.24222988e-01, 6.03866251e-03,\n",
       "        6.01123460e-03, 7.02599792e-08],\n",
       "       [3.08988173e-03, 1.23772090e-02, 9.72180995e-13, 1.19899779e-09,\n",
       "        1.53078613e-12, 2.16735713e-03, 3.68164794e-04, 1.72590910e-04,\n",
       "        9.81824815e-01, 8.94281649e-10],\n",
       "       [7.84209755e-04, 2.32588828e-01, 1.91948804e-22, 2.10506780e-14,\n",
       "        2.54240403e-22, 4.21353150e-04, 4.74238885e-04, 1.35412745e-04,\n",
       "        7.65595973e-01, 5.81098103e-18],\n",
       "       [2.33086685e-05, 6.42655551e-01, 8.04666000e-10, 8.30342284e-09,\n",
       "        7.06378789e-10, 2.20379070e-06, 3.52568746e-01, 2.96735973e-03,\n",
       "        1.78279867e-03, 8.29723312e-09],\n",
       "       [1.89749990e-03, 2.33296350e-01, 1.00294838e-12, 7.62083118e-07,\n",
       "        6.51561324e-13, 2.20127534e-02, 6.48935974e-01, 8.22953433e-02,\n",
       "        1.15612876e-02, 6.68843425e-09],\n",
       "       [6.58490956e-02, 2.96084158e-06, 1.33592944e-14, 2.61180872e-07,\n",
       "        2.65813609e-14, 9.30989981e-01, 2.46288216e-08, 2.81769526e-03,\n",
       "        3.39889462e-04, 1.05996960e-12]], dtype=float32)"
      ]
     },
     "execution_count": 147,
     "metadata": {},
     "output_type": "execute_result"
    }
   ],
   "source": [
    "pred"
   ]
  },
  {
   "cell_type": "code",
   "execution_count": 148,
   "metadata": {},
   "outputs": [],
   "source": [
    "pred_label=[np.argmax(pred[i]) for i in range(100)]"
   ]
  },
  {
   "cell_type": "code",
   "execution_count": 149,
   "metadata": {},
   "outputs": [
    {
     "data": {
      "text/plain": [
       "[1, 7, 0, 1, 6, 6, 1, 1, 1, 1]"
      ]
     },
     "execution_count": 149,
     "metadata": {},
     "output_type": "execute_result"
    }
   ],
   "source": [
    "pred_label[:10]"
   ]
  },
  {
   "cell_type": "code",
   "execution_count": 150,
   "metadata": {},
   "outputs": [
    {
     "data": {
      "text/plain": [
       "array([8, 7, 0, 1, 4, 2, 4, 8, 1, 1], dtype=uint8)"
      ]
     },
     "execution_count": 150,
     "metadata": {},
     "output_type": "execute_result"
    }
   ],
   "source": [
    "train_label[:10]"
   ]
  },
  {
   "cell_type": "code",
   "execution_count": 151,
   "metadata": {},
   "outputs": [
    {
     "data": {
      "text/plain": [
       "0.51"
      ]
     },
     "execution_count": 151,
     "metadata": {},
     "output_type": "execute_result"
    }
   ],
   "source": [
    "sum(train_label==pred_label) / 100"
   ]
  },
  {
   "cell_type": "code",
   "execution_count": 153,
   "metadata": {},
   "outputs": [
    {
     "data": {
      "text/plain": [
       "(60000, 28, 28)"
      ]
     },
     "execution_count": 153,
     "metadata": {},
     "output_type": "execute_result"
    }
   ],
   "source": [
    "x_train=imgs\n",
    "x_train.shape"
   ]
  },
  {
   "cell_type": "code",
   "execution_count": 155,
   "metadata": {},
   "outputs": [
    {
     "data": {
      "text/plain": [
       "(60000,)"
      ]
     },
     "execution_count": 155,
     "metadata": {},
     "output_type": "execute_result"
    }
   ],
   "source": [
    "y_train=labels\n",
    "y_train.shape"
   ]
  },
  {
   "cell_type": "code",
   "execution_count": 157,
   "metadata": {},
   "outputs": [],
   "source": [
    "kfold=StratifiedKFold(n_splits=5,shuffle=True,random_state=0)"
   ]
  },
  {
   "cell_type": "code",
   "execution_count": 166,
   "metadata": {},
   "outputs": [
    {
     "name": "stdout",
     "output_type": "stream",
     "text": [
      "(48000,)\n",
      "(48000,)\n",
      "(48000,)\n",
      "(48000,)\n",
      "(48000,)\n"
     ]
    }
   ],
   "source": [
    "for train, test in kfold.split(x_train,y_train):\n",
    "    print(train.shape)\n",
    "    "
   ]
  },
  {
   "cell_type": "code",
   "execution_count": 168,
   "metadata": {},
   "outputs": [],
   "source": [
    "import random"
   ]
  },
  {
   "cell_type": "code",
   "execution_count": 169,
   "metadata": {},
   "outputs": [
    {
     "ename": "TypeError",
     "evalue": "'range' object does not support item assignment",
     "output_type": "error",
     "traceback": [
      "\u001b[0;31m---------------------------------------------------------------------------\u001b[0m",
      "\u001b[0;31mTypeError\u001b[0m                                 Traceback (most recent call last)",
      "\u001b[0;32m<ipython-input-169-3a3269f571e5>\u001b[0m in \u001b[0;36m<module>\u001b[0;34m\u001b[0m\n\u001b[0;32m----> 1\u001b[0;31m \u001b[0mrandom\u001b[0m\u001b[0;34m.\u001b[0m\u001b[0mshuffle\u001b[0m\u001b[0;34m(\u001b[0m\u001b[0mrange\u001b[0m\u001b[0;34m(\u001b[0m\u001b[0;36m100\u001b[0m\u001b[0;34m)\u001b[0m\u001b[0;34m)\u001b[0m\u001b[0;34m\u001b[0m\u001b[0m\n\u001b[0m",
      "\u001b[0;32m~/.virtualenvs/python3/lib/python3.5/random.py\u001b[0m in \u001b[0;36mshuffle\u001b[0;34m(self, x, random)\u001b[0m\n\u001b[1;32m    270\u001b[0m                 \u001b[0;31m# pick an element in x[:i+1] with which to exchange x[i]\u001b[0m\u001b[0;34m\u001b[0m\u001b[0;34m\u001b[0m\u001b[0m\n\u001b[1;32m    271\u001b[0m                 \u001b[0mj\u001b[0m \u001b[0;34m=\u001b[0m \u001b[0mrandbelow\u001b[0m\u001b[0;34m(\u001b[0m\u001b[0mi\u001b[0m\u001b[0;34m+\u001b[0m\u001b[0;36m1\u001b[0m\u001b[0;34m)\u001b[0m\u001b[0;34m\u001b[0m\u001b[0m\n\u001b[0;32m--> 272\u001b[0;31m                 \u001b[0mx\u001b[0m\u001b[0;34m[\u001b[0m\u001b[0mi\u001b[0m\u001b[0;34m]\u001b[0m\u001b[0;34m,\u001b[0m \u001b[0mx\u001b[0m\u001b[0;34m[\u001b[0m\u001b[0mj\u001b[0m\u001b[0;34m]\u001b[0m \u001b[0;34m=\u001b[0m \u001b[0mx\u001b[0m\u001b[0;34m[\u001b[0m\u001b[0mj\u001b[0m\u001b[0;34m]\u001b[0m\u001b[0;34m,\u001b[0m \u001b[0mx\u001b[0m\u001b[0;34m[\u001b[0m\u001b[0mi\u001b[0m\u001b[0;34m]\u001b[0m\u001b[0;34m\u001b[0m\u001b[0m\n\u001b[0m\u001b[1;32m    273\u001b[0m         \u001b[0;32melse\u001b[0m\u001b[0;34m:\u001b[0m\u001b[0;34m\u001b[0m\u001b[0m\n\u001b[1;32m    274\u001b[0m             \u001b[0m_int\u001b[0m \u001b[0;34m=\u001b[0m \u001b[0mint\u001b[0m\u001b[0;34m\u001b[0m\u001b[0m\n",
      "\u001b[0;31mTypeError\u001b[0m: 'range' object does not support item assignment"
     ]
    }
   ],
   "source": [
    "random.shuffle(range(100))"
   ]
  },
  {
   "cell_type": "code",
   "execution_count": 173,
   "metadata": {},
   "outputs": [],
   "source": [
    "d=list(range(100))"
   ]
  },
  {
   "cell_type": "code",
   "execution_count": 174,
   "metadata": {},
   "outputs": [],
   "source": [
    "random.shuffle(d)"
   ]
  },
  {
   "cell_type": "code",
   "execution_count": 175,
   "metadata": {},
   "outputs": [
    {
     "data": {
      "text/plain": [
       "[19,\n",
       " 31,\n",
       " 20,\n",
       " 44,\n",
       " 60,\n",
       " 84,\n",
       " 39,\n",
       " 43,\n",
       " 95,\n",
       " 12,\n",
       " 13,\n",
       " 14,\n",
       " 1,\n",
       " 82,\n",
       " 0,\n",
       " 5,\n",
       " 53,\n",
       " 59,\n",
       " 77,\n",
       " 56,\n",
       " 22,\n",
       " 96,\n",
       " 68,\n",
       " 3,\n",
       " 86,\n",
       " 41,\n",
       " 73,\n",
       " 57,\n",
       " 4,\n",
       " 63,\n",
       " 42,\n",
       " 79,\n",
       " 24,\n",
       " 45,\n",
       " 76,\n",
       " 29,\n",
       " 27,\n",
       " 74,\n",
       " 70,\n",
       " 61,\n",
       " 80,\n",
       " 48,\n",
       " 34,\n",
       " 16,\n",
       " 9,\n",
       " 75,\n",
       " 90,\n",
       " 67,\n",
       " 66,\n",
       " 40,\n",
       " 49,\n",
       " 25,\n",
       " 33,\n",
       " 52,\n",
       " 99,\n",
       " 85,\n",
       " 62,\n",
       " 47,\n",
       " 23,\n",
       " 37,\n",
       " 46,\n",
       " 94,\n",
       " 10,\n",
       " 28,\n",
       " 93,\n",
       " 78,\n",
       " 91,\n",
       " 71,\n",
       " 26,\n",
       " 55,\n",
       " 97,\n",
       " 21,\n",
       " 88,\n",
       " 64,\n",
       " 58,\n",
       " 38,\n",
       " 15,\n",
       " 98,\n",
       " 72,\n",
       " 6,\n",
       " 51,\n",
       " 89,\n",
       " 92,\n",
       " 18,\n",
       " 30,\n",
       " 65,\n",
       " 36,\n",
       " 69,\n",
       " 8,\n",
       " 2,\n",
       " 50,\n",
       " 87,\n",
       " 54,\n",
       " 17,\n",
       " 81,\n",
       " 7,\n",
       " 35,\n",
       " 83,\n",
       " 11,\n",
       " 32]"
      ]
     },
     "execution_count": 175,
     "metadata": {},
     "output_type": "execute_result"
    }
   ],
   "source": [
    "d"
   ]
  },
  {
   "cell_type": "code",
   "execution_count": null,
   "metadata": {},
   "outputs": [],
   "source": []
  }
 ],
 "metadata": {
  "kernelspec": {
   "display_name": "Python 3",
   "language": "python",
   "name": "python3"
  },
  "language_info": {
   "codemirror_mode": {
    "name": "ipython",
    "version": 3
   },
   "file_extension": ".py",
   "mimetype": "text/x-python",
   "name": "python",
   "nbconvert_exporter": "python",
   "pygments_lexer": "ipython3",
   "version": "3.5.2"
  }
 },
 "nbformat": 4,
 "nbformat_minor": 2
}
